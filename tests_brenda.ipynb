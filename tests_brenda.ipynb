{
 "cells": [
  {
   "cell_type": "code",
   "execution_count": null,
   "id": "5e1b3864",
   "metadata": {
    "vscode": {
     "languageId": "plaintext"
    }
   },
   "outputs": [],
   "source": [
    "import recherche_chemin\n",
    "import algoresolution_système\n",
    "import brenda"
   ]
  },
  {
   "cell_type": "code",
   "execution_count": null,
   "id": "55f6eb59",
   "metadata": {
    "vscode": {
     "languageId": "plaintext"
    }
   },
   "outputs": [],
   "source": [
    "import pandas as pd\n",
    "def get_data():\n",
    "    reactions = pd.read_csv('https://docs.google.com/spreadsheets/d/e/2PACX-1vQW5Udu9IvmmRpJdl4GfCGhy0ZEq-kNhKIuo1bGpQUpYchPNmDdYjm846DmKRB6UVWjkIgCXTO_ChiV/pub?output=csv')\n",
    "\n",
    "    data = reactions[['Substrats', 'Produits']].drop_duplicates()\n",
    "\n",
    "    data['reactifs'] = data['Substrats'].map(lambda v: v.split('-+-'))\n",
    "    data['produits'] = data['Produits'].map(lambda v: v.split('-+-'))\n",
    "\n",
    "    simple_reactions = data[['reactifs', 'produits']]\n",
    "\n",
    "    molecules = set()\n",
    "    for r in simple_reactions['reactifs']:\n",
    "        molecules.update(r)\n",
    "    for p in simple_reactions['produits']:\n",
    "        molecules.update(p)\n",
    "\n",
    "\n",
    "    # équivalence nom - index\n",
    "    names_to_idx = {mol : idx for idx, mol in enumerate(molecules)}\n",
    "\n",
    "    molecules_encodage = simple_reactions.apply(\n",
    "        lambda reaction: pd.Series([[names_to_idx[reactif] for reactif in reaction.reactifs], [names_to_idx[produit] for produit in reaction.produits]], index = ['reactifs', 'produits']), \n",
    "        axis=1\n",
    "    )\n",
    "\n",
    "    mol_enc_to_list1 = molecules_encodage.reactifs.tolist()\n",
    "    mol_enc_to_list2 = molecules_encodage.produits.tolist()\n",
    "\n",
    "    # [[reactifs, produits]]\n",
    "    mol_enc_to_list = [[u, v] for u, v in zip(mol_enc_to_list1, mol_enc_to_list2)]\n",
    "\n",
    "    return {'dictionary': names_to_idx, 'catalogue': mol_enc_to_list}"
   ]
  },
  {
   "cell_type": "code",
   "execution_count": null,
   "id": "7594505e",
   "metadata": {
    "vscode": {
     "languageId": "plaintext"
    }
   },
   "outputs": [],
   "source": [
    "dic, cat = get_data()\n",
    "print(len(dic))\n",
    "print(len(cat))"
   ]
  }
 ],
 "metadata": {
  "kernelspec": {
   "display_name": "Xonsh",
   "language": "xonsh",
   "name": "xonsh"
  },
  "language_info": {
   "codemirror_mode": {
    "name": "ipython",
    "version": 3
   },
   "file_extension": ".py",
   "mimetype": "text/x-python",
   "name": "xonsh",
   "nbconvert_exporter": "python",
   "pygments_lexer": "ipython3",
   "version": "3.10.6"
  }
 },
 "nbformat": 4,
 "nbformat_minor": 5
}
