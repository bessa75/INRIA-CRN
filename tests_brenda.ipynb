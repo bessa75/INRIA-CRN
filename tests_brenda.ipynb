{
 "cells": [
  {
   "cell_type": "code",
   "execution_count": null,
   "id": "5e1b3864",
   "metadata": {
    "vscode": {
     "languageId": "plaintext"
    }
   },
   "outputs": [],
   "source": [
    "import recherche_chemin\n",
    "import algoresolution_système\n",
    "import brenda"
   ]
  },
  {
   "cell_type": "code",
   "execution_count": null,
   "id": "fb0d2219",
   "metadata": {
    "vscode": {
     "languageId": "plaintext"
    }
   },
   "outputs": [],
   "source": [
    "#@title DataFrame\n",
    "dataframe = pd.read_csv('https://docs.google.com/spreadsheets/d/e/2PACX-1vQW5Udu9IvmmRpJdl4GfCGhy0ZEq-kNhKIuo1bGpQUpYchPNmDdYjm846DmKRB6UVWjkIgCXTO_ChiV/pub?output=csv')"
   ]
  },
  {
   "cell_type": "code",
   "execution_count": null,
   "id": "55f6eb59",
   "metadata": {
    "vscode": {
     "languageId": "plaintext"
    }
   },
   "outputs": [],
   "source": [
    "#@title get data\n",
    "import pandas as pd\n",
    "def get_data(df):\n",
    "    \n",
    "    data = df[['Substrats', 'Produits', 'KM', 'KCAT', 'PH']].drop_duplicates(subset=['Substrats', 'Produits'])\n",
    "\n",
    "    # strip for removing spaces before spliting\n",
    "    data['reactifs']  = data['Substrats'].map(lambda v: v.strip(' ').split('-+-'))\n",
    "    data['produits']  = data['Produits' ].map(lambda v: v.strip(' ').split('-+-'))\n",
    "    data['kms'      ] = data['KM'       ].map(lambda v: v.strip(' ').split(';'))\n",
    "    data['kcats'    ] = data['KCAT'     ].map(lambda v: v.strip(' ').split(';'))\n",
    "    data['phs'      ] = data['PH'       ].map(lambda v: v.strip(' ').split('-'))\n",
    "\n",
    "    # on retient ce qui nous interesse\n",
    "    useful = data[['reactifs', 'produits', 'kms', 'kcats', 'phs']]\n",
    "\n",
    "    #identification des différentes especes\n",
    "    molecules = set()\n",
    "    for r in useful['reactifs'] + useful['produits']:\n",
    "        molecules.update([e for e in r if e != ''])\n",
    "\n",
    "    # équivalence nom - index  (dictionnaire/lexique)\n",
    "    names_to_idx = {mol : idx for idx, mol in enumerate(molecules)}\n",
    "    # reciproque\n",
    "    idx_to_name = {v : k for k, v in names_to_idx.items()}\n",
    "\n",
    "    # encodage\n",
    "    \"\"\"\n",
    "    reactions = [\n",
    "      {\n",
    "        [liste des reactifs],\n",
    "        [liste des produits],\n",
    "        [kms],\n",
    "        [kcats].\n",
    "        [phs]  \n",
    "      } autant de fois qu'il y a de réactions\n",
    "    ]\n",
    "    \"\"\"\n",
    "    reactions = []\n",
    "    \"\"\"\n",
    "    reactions_per_mol = [\n",
    "      {\n",
    "        [liste des index des réactions dans lesquelles la molecule réagit]\n",
    "      } autant de fois qu'il y a de molécules\n",
    "    ]\n",
    "    \"\"\"\n",
    "    reactions_per_mol = [ set() for _ in range(len(molecules))]\n",
    "    add = reactions.append\n",
    "    for i, d in useful.iterrows():\n",
    "      # print(d)\n",
    "      # reactifs = [r  for r  in d.reactifs if r  != '']\n",
    "\n",
    "      for r in d.reactifs:\n",
    "          reactions_per_mol[names_to_idx[r]].add(i)\n",
    "\n",
    "      # produits = [p for p    in d.produits if r    != '']\n",
    "      kms      = [km   if km   != '?' else -1 for km   in d.kms   ] \n",
    "      kcats    = [kcat if kcat != '?' else -1 for kcat in d.kcats ]\n",
    "      \n",
    "      if d.phs == ['?'] :   phs = [-1, -1]\n",
    "      elif len(d.phs) == 1: phs = [d.phs[0], d.phs[0]]\n",
    "      else :                phs = [d.phs[0], d.phs[1]]\n",
    "\n",
    "      add([d.reactifs, d.produits, kms, kcats, phs])\n",
    "\n",
    "    return {\n",
    "        'dic_name_to_idx': names_to_idx, \n",
    "        'dic_idx_to_name': idx_to_name, \n",
    "        'molecules_list': list(molecules), \n",
    "        'reactions': reactions, \n",
    "        'reactions_per_molecule': list(reactions_per_mol)\n",
    "      }"
   ]
  },
  {
   "cell_type": "code",
   "execution_count": null,
   "id": "7594505e",
   "metadata": {
    "vscode": {
     "languageId": "plaintext"
    }
   },
   "outputs": [],
   "source": [
    "dic, cat = get_data()\n",
    "print(len(dic))\n",
    "print(len(cat))"
   ]
  }
 ],
 "metadata": {
  "kernelspec": {
   "display_name": "Xonsh",
   "language": "xonsh",
   "name": "xonsh"
  },
  "language_info": {
   "codemirror_mode": {
    "name": "ipython",
    "version": 3
   },
   "file_extension": ".py",
   "mimetype": "text/x-python",
   "name": "xonsh",
   "nbconvert_exporter": "python",
   "pygments_lexer": "ipython3",
   "version": "3.10.6"
  }
 },
 "nbformat": 4,
 "nbformat_minor": 5
}
