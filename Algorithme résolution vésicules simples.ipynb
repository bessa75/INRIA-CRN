{
 "cells": [
  {
   "cell_type": "markdown",
   "id": "66402a64-aac1-4506-9183-eff83b9ed227",
   "metadata": {},
   "source": [
    "# Mise en place d'un algorithme de recherche de chemins sur les premiers exemples de vésicules\n"
   ]
  },
  {
   "cell_type": "markdown",
   "id": "2b2dd123-6639-4953-a8cf-53304b626cdf",
   "metadata": {},
   "source": [
    "##### Importation des bibliothéques définis par l'utilisateur"
   ]
  },
  {
   "cell_type": "code",
   "execution_count": 1,
   "id": "fb996661-2e80-432b-bab9-ffe4e4fae521",
   "metadata": {},
   "outputs": [],
   "source": [
    "import algoPSC2_0_1\n",
    "import algoresolution_système"
   ]
  },
  {
   "cell_type": "markdown",
   "id": "6ffa9dba-726c-4940-85a9-0c5e83ed599e",
   "metadata": {},
   "source": [
    "##### Lecture du fichier catalogue pour construire les listes de molécules et réactions"
   ]
  },
  {
   "cell_type": "code",
   "execution_count": 2,
   "id": "89b06398-4f22-49c1-972a-8e49e12bf840",
   "metadata": {},
   "outputs": [],
   "source": [
    "import re #bibliothéque python\n",
    "\n",
    "file = \"catalog.bc\"\n",
    "nb_réactions_max = 50\n",
    "algoPSC2_0_1.nb_réactions_max=nb_réactions_max\n",
    "\n",
    "elmts = []\n",
    "inputs = []\n",
    "enzymes = []\n",
    "regex = [\"(present\\()|(, [e\\-0-9]+\\))|\\.\", \"(MA.*for )|\\+|(=>)|\\.\"]\n",
    "blocs = {\"inputs\": (regex[0], inputs), \"enzymes\": (regex[0], enzymes), \"elmts\": (regex[1], elmts)}\n",
    "\n",
    "\"\"\" Création du tableau \"reaction\" de l'ensemble des réactions possible données par le fichier file\"\"\"\n",
    "friends = {'test': []}  # Chaque elmt et l'ensemble des elements avec lesquels il reagit\n",
    "# par contre les enzymes ne sont pas comptés comme éléments, du coup ils ne font pas partie des clés du dict.\n",
    "\n",
    "reaction = []  # Liste des réactions en version texte\n",
    "with open(file) as f:\n",
    "    while f.readline() != \"% Inputs\\n\":\n",
    "        continue\n",
    "    bloc = 'inputs'\n",
    "    while True:\n",
    "        l = f.readline()\n",
    "        if not l:\n",
    "            break\n",
    "\n",
    "        if l[0] == '%':\n",
    "            if l.find(\"Enzymes\") > 0:\n",
    "                bloc = 'enzymes'\n",
    "                continue\n",
    "            if l.find('reaction') > 0:\n",
    "                bloc = 'elmts'\n",
    "                continue\n",
    "            continue\n",
    "\n",
    "        if len(l) < 3:\n",
    "            continue\n",
    "\n",
    "        if bloc == 'elmts':\n",
    "            elmt = l.split('=>')\n",
    "            reactifs = re.sub(\"(MA.*for )|\\+\", \" \", elmt[0]).split()\n",
    "            for r in reactifs:\n",
    "                try:\n",
    "                    friends[r].extend([e for e in reactifs if e not in friends[r]])\n",
    "                except:\n",
    "                    friends.update({r: [e for e in reactifs if e != r]})\n",
    "            produits = re.sub(\"\\+|\\.\", \" \", elmt[1]).split()\n",
    "            reaction.append((reactifs, produits))\n",
    "            elts = reactifs + produits\n",
    "        else:\n",
    "            elts = re.sub(blocs[bloc][0], '', l).split()\n",
    "\n",
    "        blocs[bloc][1].extend([e for e in elts if (e not in blocs[bloc][1])])\n",
    "algoPSC2_0_1.reaction=reaction\n",
    "\n",
    "MOL = enzymes + elmts\n",
    "MOL.pop(26)  # ?\n",
    "algoPSC2_0_1.MOL=MOL\n",
    "\n",
    "\n",
    "REACTIONS = []  # Liste des réactions en version numéros\n",
    "for a in reaction:\n",
    "    reac = ([], [])\n",
    "    for m in a[0]:\n",
    "        if m == 'H_20_2' or m == 'H202' or m == 'H_2O_2':\n",
    "            reac[0].append(algoPSC2_0_1.numero('H2O2'))\n",
    "        else:\n",
    "            reac[0].append(algoPSC2_0_1.numero(m))\n",
    "    for m in a[1]:\n",
    "        if m == 'H_20_2' or m == 'H202' or m == 'H_2O_2':\n",
    "            reac[1].append(algoPSC2_0_1.numero('H2O2'))\n",
    "        else:\n",
    "            reac[1].append(algoPSC2_0_1.numero(m))\n",
    "    REACTIONS.append(reac)\n",
    "algoPSC2_0_1.REACTIONS=REACTIONS\n",
    "\n",
    "\n",
    "REACPARMOL = [] # REACPARMOL = ?\n",
    "for k in range(0, len(MOL)):\n",
    "    REACPARMOL.append([])\n",
    "for k in range(0, len(REACTIONS)):\n",
    "    u = REACTIONS[k][0][0]\n",
    "    REACPARMOL[u].append(k)\n",
    "algoPSC2_0_1.REACPARMOL=REACPARMOL"
   ]
  },
  {
   "cell_type": "markdown",
   "id": "d85718de-0260-41fc-8d2a-6f9ccdeab2bc",
   "metadata": {},
   "source": [
    "## Résolution d'exemples"
   ]
  },
  {
   "cell_type": "code",
   "execution_count": 3,
   "id": "fda083e7-974d-4cfa-82f0-f569c3d0312e",
   "metadata": {},
   "outputs": [
    {
     "name": "stdout",
     "output_type": "stream",
     "text": [
      "Les mécanismes après sélection sont les suivants\n",
      "[([[6], [8], [10]], 'e', [5, 77, 4]), ([[24, 0, 1], [26], [28], [18], [20], [22], [23], [14], [16], [6], [8], [10]], 'ab', [5, 6, 1, 10, 3, 13, 15, 4])]\n",
      " \n",
      "mécanisme 1:\n",
      "[(['HRP', 'H_2O_2'], ['CCia5'])]\n",
      "[(['CCia5', 'resazurin'], ['CCib5'])]\n",
      "[(['CCib5'], ['HRP', 'resorufin'])]\n",
      " \n",
      "mécanisme 2:\n",
      "[(['G_1DH', 'NAD'], ['CCia1']), (['glucoseext'], ['glucose']), (['acetoneext'], ['acetone'])]\n",
      "[(['CCia1', 'glucose'], ['CCib1'])]\n",
      "[(['CCib1'], ['CCfa1', 'NADH'])]\n",
      "[(['ADH', 'NADH'], ['CCia2'])]\n",
      "[(['CCia2', 'acetone'], ['CCib2'])]\n",
      "[(['CCib2'], ['CCfa2', 'NAD'])]\n",
      "[(['CCfa2'], ['ADH', 'isopropanol'])]\n",
      "[(['AO', 'isopropanol'], ['CCf3'])]\n",
      "[(['CCf3'], ['CCio3', 'H_2O_2'])]\n",
      "[(['HRP', 'H_2O_2'], ['CCia5'])]\n",
      "[(['CCia5', 'resazurin'], ['CCib5'])]\n",
      "[(['CCib5'], ['HRP', 'resorufin'])]\n",
      " \n",
      "********************************************\n",
      "[(['HRP', 'H_2O_2'], ['CCia5'])]\n",
      "[(['CCia5', 'resazurin'], ['CCib5'])]\n",
      "[(['CCib5'], ['HRP', 'resorufin'])]\n",
      "\n",
      "\n"
     ]
    }
   ],
   "source": [
    "##glucose et acetone donnent gluconolacrone\n",
    "algoPSC2_0_1.ENZ = ['AO', 'ADH', 'G_1DH', 'NAD', 'resazurin', 'HRP', 'H2O2']  ##rajouter NAD pour fausser le résultat\n",
    "MECAS = algoPSC2_0_1.résolution_équation(\"acetoneext + glucoseext => resorufin\")\n"
   ]
  },
  {
   "cell_type": "code",
   "execution_count": 4,
   "id": "8eb82a89-9969-45f8-8c97-b301476b3644",
   "metadata": {},
   "outputs": [
    {
     "name": "stdout",
     "output_type": "stream",
     "text": [
      "Les mécanismes après sélection sont les suivants\n",
      "[([[24, 0], [26], [28], [29]], 'b', [10, 3, 13]), ([[24, 0], [26], [28], [29]], 'b', [10, 3, 13]), ([[18, 1, 0], [20], [22], [24], [26], [28], [29]], 'ab', [10, 1, 2, 15, 13]), ([[18, 1, 0], [20], [22], [24], [26], [28], [29]], 'ab', [10, 1, 2, 15, 13])]\n",
      " \n",
      "********************************************\n",
      "(['CCib5'], ['HRP', 'resorufin'])\n",
      "(['acetoneext'], ['acetone'])\n",
      "(['Lactateext'], ['Lactate'])\n",
      "(['CCf3'], ['AO', 'isopropanol'])\n",
      "(['CCf4'], ['HRP2', 'NADN'])\n",
      "\n",
      "\n"
     ]
    }
   ],
   "source": [
    "## Test lescture équation\n",
    "ENZ=['ABTS','ADH', 'NADH', 'resazurin', 'HRP', 'AO', 'HRP2', 'POD', 'NR', 'G_1DH', 'O2', 'DAF','NAD'] ##rajouter NAD pour fausser le résultat\n",
    "RE=['acetoneext','glucoseext']\n",
    "re=algoPSC2_0_1.numero2(RE)\n",
    "enz=algoPSC2_0_1.numero2(ENZ)\n",
    "solution=algoresolution_système.ressystem([re],[algoPSC2_0_1.numero('gluconolacrone')],['ab'],20,enz)\n",
    "\n",
    "mt = algoPSC2_0_1.mecatexte(solution[0])\n",
    "for d in mt[0]:\n",
    "    print(d)\n",
    "print(\"\")\n",
    "print(\"\")"
   ]
  },
  {
   "cell_type": "code",
   "execution_count": 5,
   "id": "af10a650-631f-4ed5-b608-17808290b764",
   "metadata": {},
   "outputs": [
    {
     "name": "stdout",
     "output_type": "stream",
     "text": [
      "Les mécanismes après sélection sont les suivants\n",
      "[([[40, 24, 0, 40, 24, 0], [26, 26], [28, 28], [44, 44], [48, 48], [31], [33], [34], [36], [37], [39]], 'ab', [12, 9, 24, 10, 3, 13, 11, 9, 24, 10, 3, 13])]\n",
      " \n",
      "mécanisme 1:\n",
      "[(['NR', 'NO2'], ['Cia3']), (['G_1DH', 'NAD'], ['CCia1']), (['glucoseext'], ['glucose']), (['NR', 'NO2'], ['Cia3']), (['G_1DH', 'NAD'], ['CCia1']), (['glucoseext'], ['glucose'])]\n",
      "[(['CCia1', 'glucose'], ['CCib1']), (['CCia1', 'glucose'], ['CCib1'])]\n",
      "[(['CCib1'], ['CCfa1', 'NADH']), (['CCib1'], ['CCfa1', 'NADH'])]\n",
      "[(['Cia3', 'NADH'], ['Cfa3']), (['Cia3', 'NADH'], ['Cfa3'])]\n",
      "[(['Cfa3'], ['Cio3', 'NO']), (['Cfa3'], ['Cio3', 'NO'])]\n",
      "[(['O2', 'NO'], ['Cf6'])]\n",
      "[(['Cf6'], ['O2', 'NO2b'])]\n",
      "[(['NO', 'NO2b'], ['Cf5'])]\n",
      "[(['Cf5'], ['N2O3'])]\n",
      "[(['DAF', 'N2O3'], ['Cf4'])]\n",
      "[(['Cf4'], ['DAFF'])]\n",
      " \n",
      "********************************************\n",
      "[(['NR', 'NO2'], ['Cia3']), (['G_1DH', 'NAD'], ['CCia1']), (['glucoseext'], ['glucose']), (['NR', 'NO2'], ['Cia3']), (['G_1DH', 'NAD'], ['CCia1']), (['glucoseext'], ['glucose'])]\n",
      "[(['CCia1', 'glucose'], ['CCib1']), (['CCia1', 'glucose'], ['CCib1'])]\n",
      "[(['CCib1'], ['CCfa1', 'NADH']), (['CCib1'], ['CCfa1', 'NADH'])]\n",
      "[(['Cia3', 'NADH'], ['Cfa3']), (['Cia3', 'NADH'], ['Cfa3'])]\n",
      "[(['Cfa3'], ['Cio3', 'NO']), (['Cfa3'], ['Cio3', 'NO'])]\n",
      "[(['O2', 'NO'], ['Cf6'])]\n",
      "[(['Cf6'], ['O2', 'NO2b'])]\n",
      "[(['NO', 'NO2b'], ['Cf5'])]\n",
      "[(['Cf5'], ['N2O3'])]\n",
      "[(['DAF', 'N2O3'], ['Cf4'])]\n",
      "[(['Cf4'], ['DAFF'])]\n",
      "\n",
      "\n"
     ]
    }
   ],
   "source": [
    "##NO et glucose donnent gluconolacrone avec NO3 en réactif annexe\n",
    "algoPSC2_0_1.ENZ = ['ABTS', 'ADH', 'resazurin', 'HRP', 'AO', 'HRP2', 'POD', 'NR', 'G_1DH', 'O2', 'DAF', 'NAD']\n",
    "algoPSC2_0_1.résolution_équation(\"NO2 + glucoseext => DAFF\")"
   ]
  },
  {
   "cell_type": "code",
   "execution_count": 6,
   "id": "56d3688b-8026-4110-a02e-7ad1572e5ac4",
   "metadata": {},
   "outputs": [
    {
     "name": "stdout",
     "output_type": "stream",
     "text": [
      "Les mécanismes après sélection sont les suivants\n",
      "[([[84, 2], [69], [71], [86], [88]], 'a', [8, 0, 74, 17])]\n",
      " \n",
      "mécanisme 1:\n",
      "[(['POD', 'ABTS'], ['DDia5']), (['Lactateext'], ['Lactate'])]\n",
      "[(['LO', 'Lactate'], ['DDf2'])]\n",
      "[(['DDf2'], ['DDio2', 'H2O2'])]\n",
      "[(['DDia5', 'H2O2'], ['DDib5'])]\n",
      "[(['DDib5'], ['POD', 'ABTSOX'])]\n",
      " \n",
      "********************************************\n",
      "[(['POD', 'ABTS'], ['DDia5']), (['Lactateext'], ['Lactate'])]\n",
      "[(['LO', 'Lactate'], ['DDf2'])]\n",
      "[(['DDf2'], ['DDio2', 'H2O2'])]\n",
      "[(['DDia5', 'H2O2'], ['DDib5'])]\n",
      "[(['DDib5'], ['POD', 'ABTSOX'])]\n",
      "\n",
      "\n",
      "Les mécanismes après sélection sont les suivants\n",
      "[([[84, 2], [69], [71], [86], [88]], 'a', [8, 0, 74, 17])]\n",
      " \n",
      "mécanisme 1:\n",
      "[(['POD', 'ABTS'], ['DDia5']), (['Lactateext'], ['Lactate'])]\n",
      "[(['LO', 'Lactate'], ['DDf2'])]\n",
      "[(['DDf2'], ['DDio2', 'H2O2'])]\n",
      "[(['DDia5', 'H2O2'], ['DDib5'])]\n",
      "[(['DDib5'], ['POD', 'ABTSOX'])]\n",
      " \n",
      "********************************************\n",
      "[(['POD', 'ABTS'], ['DDia5']), (['Lactateext'], ['Lactate'])]\n",
      "[(['LO', 'Lactate'], ['DDf2'])]\n",
      "[(['DDf2'], ['DDio2', 'H2O2'])]\n",
      "[(['DDia5', 'H2O2'], ['DDib5'])]\n",
      "[(['DDib5'], ['POD', 'ABTSOX'])]\n"
     ]
    }
   ],
   "source": [
    "## Ancien OU logique à changer sur le fonctionnement pluscourtchemin\n",
    "\n",
    "ENZ=['ABTS', 'ADH', 'NAD', 'resazurin', 'HRP', 'AO', 'HRP2', 'POD', 'NR', 'G_1DH', 'O2', 'DAF', 'LO']\n",
    "algoPSC2_0_1.ENZ = ENZ\n",
    "RE = ['Lactateext', 'EtOHext']\n",
    "\n",
    "algoPSC2_0_1.résolution_équation(\"Lactateext + EtOHext => ABTSOX\")\n",
    "\n",
    "MECAS = algoPSC2_0_1.pluscourtchemin(algoPSC2_0_1.numero2(ENZ), algoPSC2_0_1.numero2(RE), algoPSC2_0_1.numero('ABTSOX'), nb_réactions_max, True)  # Pourquoi tag a ? OU logique ?\n",
    "mt = algoPSC2_0_1.mecatexte(MECAS[0][0])\n",
    "for d in mt:\n",
    "    print(d)"
   ]
  },
  {
   "cell_type": "markdown",
   "id": "0a8cc425-d32d-40ca-8d6a-b53d68b75965",
   "metadata": {},
   "source": [
    "### Test du non"
   ]
  },
  {
   "cell_type": "code",
   "execution_count": 7,
   "id": "4b4083d1-620e-4cfd-8bb8-ee4afa9f62ce",
   "metadata": {},
   "outputs": [
    {
     "name": "stdout",
     "output_type": "stream",
     "text": [
      "Molécule non :  16\n",
      "\n",
      "Les mécanismes après sélection sont les suivants\n",
      "[([[24, 0], [26], [28]], 'b', [10, 3, 13]), ([[24, 0], [26], [28]], 'b', [10, 3, 13])]\n",
      " \n",
      "mécanisme 1:\n",
      "[(['G_1DH', 'NAD'], ['CCia1']), (['glucoseext'], ['glucose'])]\n",
      "[(['CCia1', 'glucose'], ['CCib1'])]\n",
      "[(['CCib1'], ['CCfa1', 'NADH'])]\n",
      " \n",
      "mécanisme 2:\n",
      "[(['G_1DH', 'NAD'], ['CCia1']), (['glucoseext'], ['glucose'])]\n",
      "[(['CCia1', 'glucose'], ['CCib1'])]\n",
      "[(['CCib1'], ['CCfa1', 'NADH'])]\n",
      " \n",
      "********************************************\n",
      "[(['G_1DH', 'NAD'], ['CCia1']), (['glucoseext'], ['glucose'])]\n",
      "[(['CCia1', 'glucose'], ['CCib1'])]\n",
      "[(['CCib1'], ['CCfa1', 'NADH'])]\n",
      "\n",
      "\n"
     ]
    }
   ],
   "source": [
    "##glucose et Non(acetone) donnent gluconolacrone\n",
    "algoPSC2_0_1.ENZ = ['AO', 'ADH', 'G_1DH', 'NAD', 'resazurin', 'HRP', 'H2O2']  ##rajouter NAD pour fausser le résultat\n",
    "algoPSC2_0_1.résolution_équation(\"!acetoneext + glucoseext => NADH\")"
   ]
  },
  {
   "cell_type": "code",
   "execution_count": 8,
   "id": "153322a9-e8d1-414c-8faf-69ab36c69725",
   "metadata": {},
   "outputs": [
    {
     "name": "stdout",
     "output_type": "stream",
     "text": [
      "Les mécanismes après sélection sont les suivants\n",
      "[([[6], [8], [10]], 'e', [5, 77, 4]), ([[24, 0, 1], [26], [28], [18], [20], [22], [23], [14], [16], [6], [8], [10]], 'ab', [5, 6, 1, 10, 3, 13, 15, 4])]\n",
      " \n",
      "mécanisme 1:\n",
      "[(['HRP', 'H_2O_2'], ['CCia5'])]\n",
      "[(['CCia5', 'resazurin'], ['CCib5'])]\n",
      "[(['CCib5'], ['HRP', 'resorufin'])]\n",
      " \n",
      "mécanisme 2:\n",
      "[(['G_1DH', 'NAD'], ['CCia1']), (['glucoseext'], ['glucose']), (['acetoneext'], ['acetone'])]\n",
      "[(['CCia1', 'glucose'], ['CCib1'])]\n",
      "[(['CCib1'], ['CCfa1', 'NADH'])]\n",
      "[(['ADH', 'NADH'], ['CCia2'])]\n",
      "[(['CCia2', 'acetone'], ['CCib2'])]\n",
      "[(['CCib2'], ['CCfa2', 'NAD'])]\n",
      "[(['CCfa2'], ['ADH', 'isopropanol'])]\n",
      "[(['AO', 'isopropanol'], ['CCf3'])]\n",
      "[(['CCf3'], ['CCio3', 'H_2O_2'])]\n",
      "[(['HRP', 'H_2O_2'], ['CCia5'])]\n",
      "[(['CCia5', 'resazurin'], ['CCib5'])]\n",
      "[(['CCib5'], ['HRP', 'resorufin'])]\n",
      " \n",
      "********************************************\n",
      "[(['HRP', 'H_2O_2'], ['CCia5'])]\n",
      "[(['CCia5', 'resazurin'], ['CCib5'])]\n",
      "[(['CCib5'], ['HRP', 'resorufin'])]\n",
      "\n",
      "\n"
     ]
    }
   ],
   "source": [
    "##glucose et acetone donnent gluconolacrone\n",
    "algoPSC2_0_1.ENZ = ['AO', 'ADH', 'G_1DH', 'NAD', 'resazurin', 'HRP', 'H2O2']  ##rajouter NAD pour fausser le résultat\n",
    "algoPSC2_0_1.résolution_équation(\"acetoneext + glucoseext => resorufin\")"
   ]
  }
 ],
 "metadata": {
  "kernelspec": {
   "display_name": "Python 3 (ipykernel)",
   "language": "python",
   "name": "python3"
  },
  "language_info": {
   "codemirror_mode": {
    "name": "ipython",
    "version": 3
   },
   "file_extension": ".py",
   "mimetype": "text/x-python",
   "name": "python",
   "nbconvert_exporter": "python",
   "pygments_lexer": "ipython3",
   "version": "3.10.4"
  }
 },
 "nbformat": 4,
 "nbformat_minor": 5
}
