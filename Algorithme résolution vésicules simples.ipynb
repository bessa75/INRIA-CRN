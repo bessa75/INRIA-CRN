{
 "cells": [
  {
   "cell_type": "markdown",
   "id": "66402a64-aac1-4506-9183-eff83b9ed227",
   "metadata": {},
   "source": [
    "# Mise en place d'un algorithme de recherche de chemins sur les premiers exemples de vésicules\n"
   ]
  },
  {
   "cell_type": "markdown",
   "id": "2b2dd123-6639-4953-a8cf-53304b626cdf",
   "metadata": {},
   "source": [
    "##### Importation des bibliothéques définis par l'utilisateur"
   ]
  },
  {
   "cell_type": "code",
   "execution_count": 1,
   "id": "fb996661-2e80-432b-bab9-ffe4e4fae521",
   "metadata": {},
   "outputs": [],
   "source": [
    "import recherche_chemin\n",
    "import algoresolution_système\n",
    "\n",
    "import time\n",
    "import re #bibliothéque python\n",
    "\n",
    "def numero(texte):\n",
    "    if type(texte) is str:\n",
    "        return recherche_chemin.numero(texte,liste_molecules)\n",
    "    if type(texte) is list:\n",
    "        return recherche_chemin.numero2(texte,liste_molecules)"
   ]
  },
  {
   "cell_type": "markdown",
   "id": "6ffa9dba-726c-4940-85a9-0c5e83ed599e",
   "metadata": {},
   "source": [
    "##### Lecture du fichier catalogue pour construire les listes de molécules et réactions"
   ]
  },
  {
   "cell_type": "code",
   "execution_count": 14,
   "id": "89b06398-4f22-49c1-972a-8e49e12bf840",
   "metadata": {},
   "outputs": [],
   "source": [
    "file = \"catalog.bc\"\n",
    "nb_réactions_max = 50\n",
    "\n",
    "elmts = []\n",
    "inputs = []\n",
    "enzymes = []\n",
    "regex = [\"(present\\()|(, [e\\-0-9]+\\))|\\.\", \"(MA.*for )|\\+|(=>)|\\.\"]\n",
    "blocs = {\"inputs\": (regex[0], inputs), \"enzymes\": (regex[0], enzymes), \"elmts\": (regex[1], elmts)}\n",
    "\n",
    "\"\"\" Création du tableau \"reaction\" de l'ensemble des réactions possible données par le fichier file\"\"\"\n",
    "friends = {'test': []}  # Chaque elmt et l'ensemble des elements avec lesquels il reagit\n",
    "# par contre les enzymes ne sont pas comptés comme éléments, du coup ils ne font pas partie des clés du dict.\n",
    "\n",
    "reaction = []  # Liste des réactions en version texte\n",
    "with open(file) as f:\n",
    "    while f.readline() != \"% Inputs\\n\":\n",
    "        continue\n",
    "    bloc = 'inputs'\n",
    "    while True:\n",
    "        l = f.readline()\n",
    "        if not l:\n",
    "            break\n",
    "\n",
    "        if l[0] == '%':\n",
    "            if l.find(\"Enzymes\") > 0:\n",
    "                bloc = 'enzymes'\n",
    "                continue\n",
    "            if l.find('reaction') > 0:\n",
    "                bloc = 'elmts'\n",
    "                continue\n",
    "            continue\n",
    "\n",
    "        if len(l) < 3:\n",
    "            continue\n",
    "\n",
    "        if bloc == 'elmts':\n",
    "            elmt = l.split('=>')\n",
    "            reactifs = re.sub(\"(MA.*for )|\\+\", \" \", elmt[0]).split()\n",
    "            for r in reactifs:\n",
    "                try:\n",
    "                    friends[r].extend([e for e in reactifs if e not in friends[r]])\n",
    "                except:\n",
    "                    friends.update({r: [e for e in reactifs if e != r]})\n",
    "            produits = re.sub(\"\\+|\\.\", \" \", elmt[1]).split()\n",
    "            reaction.append((reactifs, produits))\n",
    "            elts = reactifs + produits\n",
    "        else:\n",
    "            elts = re.sub(blocs[bloc][0], '', l).split()\n",
    "\n",
    "        blocs[bloc][1].extend([e for e in elts if (e not in blocs[bloc][1])])\n",
    "\n",
    "liste_molecules = elmts\n",
    "for molecule in enzymes :\n",
    "    if not(molecule in enzymes):\n",
    "        liste_molecules.append(molecule)\n",
    "liste_molecules.pop(numero('H_2O_2'))  # Remove 'H_2O_2', 'H2O2' is in list\n",
    "\n",
    "dictionnaire_molecules={liste_molecules[i] : i for i in range(len(liste_molecules))}\n",
    "\n",
    "REACTIONS = []  # Liste des réactions en version numéros\n",
    "for a in reaction:\n",
    "    reac = ([], [])\n",
    "    for m in a[0]:\n",
    "        if m == 'H_20_2' or m == 'H202' or m == 'H_2O_2':\n",
    "            reac[0].append(recherche_chemin.numero('H2O2',liste_molecules))\n",
    "        else:\n",
    "            reac[0].append(recherche_chemin.numero(m,liste_molecules))\n",
    "    for m in a[1]:\n",
    "        if m == 'H_20_2' or m == 'H202' or m == 'H_2O_2':\n",
    "            reac[1].append(recherche_chemin.numero('H2O2',liste_molecules))\n",
    "        else:\n",
    "            reac[1].append(recherche_chemin.numero(m,liste_molecules))\n",
    "    REACTIONS.append(reac)\n",
    "\n",
    "\n",
    "REACPARMOL = [] # REACPARMOL = ?\n",
    "for k in range(0, len(liste_molecules)):\n",
    "    REACPARMOL.append([])\n",
    "for k in range(0, len(REACTIONS)):\n",
    "    u = REACTIONS[k][0][0]\n",
    "    REACPARMOL[u].append(k)\n",
    "recherche_chemin.REACPARMOL=REACPARMOL"
   ]
  },
  {
   "cell_type": "code",
   "execution_count": 3,
   "id": "f576269b-9645-498c-a9d4-d16efea6e0b7",
   "metadata": {},
   "outputs": [],
   "source": [
    "def time_exec(nom_fonction):\n",
    "    start_time = time.time()\n",
    "    fonction = globals()[nom_fonction]\n",
    "    fonction()\n",
    "    print(\"Temps de calcul : \",time.time()-start_time)"
   ]
  },
  {
   "cell_type": "markdown",
   "id": "d85718de-0260-41fc-8d2a-6f9ccdeab2bc",
   "metadata": {},
   "source": [
    "## Résolution d'exemples"
   ]
  },
  {
   "cell_type": "code",
   "execution_count": 27,
   "id": "fda083e7-974d-4cfa-82f0-f569c3d0312e",
   "metadata": {},
   "outputs": [
    {
     "name": "stdout",
     "output_type": "stream",
     "text": [
      "PRESENCE :  [True, [(10, 3, 'e'), (10, 12, 'ab')], ['e', 'ab'], [(10, 'e'), (10, 'ab')]]\n",
      "\n",
      "Les mécanismes après sélection sont les suivants\n",
      "[([[6], [8], [10]], 'e', [12, 64, 14]), ([[24, 0, 1], [26], [28], [18], [20], [22], [23], [14], [16], [6], [8], [10]], 'ab', [12, 21, 25, 30, 29, 14])]\n",
      " \n",
      "mécanisme 1:\n",
      "HRP + H_2O_2 -> CCia5\n",
      "CCia5 + resazurin -> CCib5\n",
      "CCib5 -> HRP + resorufin\n",
      " \n",
      "mécanisme 2:\n",
      "G_1DH + NAD -> CCia1 --- glucoseext -> glucose --- acetoneext -> acetone\n",
      "CCia1 + glucose -> CCib1\n",
      "CCib1 -> CCfa1 + NADH\n",
      "ADH + NADH -> CCia2\n",
      "CCia2 + acetone -> CCib2\n",
      "CCib2 -> CCfa2 + NAD\n",
      "CCfa2 -> ADH + isopropanol\n",
      "AO + isopropanol -> CCf3\n",
      "CCf3 -> CCio3 + H_2O_2\n",
      "HRP + H_2O_2 -> CCia5\n",
      "CCia5 + resazurin -> CCib5\n",
      "CCib5 -> HRP + resorufin\n",
      " \n",
      "********************************************\n",
      "['HRP + H_2O_2 -> CCia5']\n",
      "['CCia5 + resazurin -> CCib5']\n",
      "['CCib5 -> HRP + resorufin']\n",
      "\n",
      "\n"
     ]
    }
   ],
   "source": [
    "##glucose et acetone donnent gluconolacrone\n",
    "ENZ = ['AO', 'ADH', 'G_1DH', 'NAD', 'resazurin', 'HRP', 'H2O2']  ##rajouter NAD pour fausser le résultat\n",
    "#ENZ=liste_molecules[:dictionnaire_molecules.get('resorufin')]+liste_molecules[(dictionnaire_molecules.get('resorufin')+1):]\n",
    "\n",
    "MECAS = recherche_chemin.résolution_équation(ENZ,\"acetoneext + glucoseext => resorufin\",nb_réactions_max,reaction,liste_molecules,REACTIONS,REACPARMOL)\n"
   ]
  },
  {
   "cell_type": "code",
   "execution_count": 31,
   "id": "a60f9121-ce00-4889-84e1-068db191863c",
   "metadata": {},
   "outputs": [
    {
     "data": {
      "text/plain": [
       "[[[30, 25, 18]], [[[18, 1, 0], [20], [22], [24], [26], [28], [29]]]]"
      ]
     },
     "execution_count": 31,
     "metadata": {},
     "output_type": "execute_result"
    }
   ],
   "source": [
    "solution"
   ]
  },
  {
   "cell_type": "code",
   "execution_count": 35,
   "id": "f4ecc790-c94d-4678-8983-7259d83c65df",
   "metadata": {},
   "outputs": [
    {
     "data": {
      "text/plain": [
       "[[30, 25, 18]]"
      ]
     },
     "execution_count": 35,
     "metadata": {},
     "output_type": "execute_result"
    }
   ],
   "source": [
    "solution[0]"
   ]
  },
  {
   "cell_type": "code",
   "execution_count": 28,
   "id": "8eb82a89-9969-45f8-8c97-b301476b3644",
   "metadata": {},
   "outputs": [
    {
     "name": "stdout",
     "output_type": "stream",
     "text": [
      "Les mécanismes après sélection sont les suivants\n",
      "[([[24, 0], [26], [28], [29]], 'b', [30, 29]), ([[24, 0], [26], [28], [29]], 'b', [30, 29]), ([[18, 1, 0], [20], [22], [24], [26], [28], [29]], 'ab', [30, 25, 18]), ([[18, 1, 0], [20], [22], [24], [26], [28], [29]], 'ab', [30, 25, 18])]\n",
      " \n",
      "********************************************\n",
      "NO -> volatNO\n",
      "CCia1 -> G_1DH + NAD\n",
      "ADH + NADH -> CCia2\n",
      "\n",
      "\n"
     ]
    }
   ],
   "source": [
    "## Test lescture équation\n",
    "ENZ=['ABTS','ADH', 'NADH', 'resazurin', 'HRP', 'AO', 'HRP2', 'POD', 'NR', 'G_1DH', 'O2', 'DAF','NAD'] ##rajouter NAD pour fausser le résultat\n",
    "RE=['acetoneext','glucoseext']\n",
    "re=numero(RE)\n",
    "enz=numero(ENZ)\n",
    "\n",
    "solution=algoresolution_système.ressystem([re],[numero('gluconolacrone')],['ab'],20,enz,reaction,liste_molecules,REACTIONS,REACPARMOL)\n",
    "\n",
    "mt = recherche_chemin.mecatexte(solution[0],reaction)\n",
    "for d in mt[0]:\n",
    "    print(d)\n",
    "print(\"\")\n",
    "print(\"\")"
   ]
  },
  {
   "cell_type": "code",
   "execution_count": 36,
   "id": "af10a650-631f-4ed5-b608-17808290b764",
   "metadata": {},
   "outputs": [
    {
     "name": "stdout",
     "output_type": "stream",
     "text": [
      "PRESENCE :  [True, [(39, 11, 'ab')], ['ab'], [(39, 'ab')]]\n",
      "\n",
      "Les mécanismes après sélection sont les suivants\n",
      "[([[40, 24, 0, 40, 24, 0], [26, 26], [28, 28], [44, 44], [48, 48], [31], [33], [34], [36], [37], [39]], 'ab', [42, 45, 30, 29, 37, 45, 30, 29])]\n",
      " \n",
      "mécanisme 1:\n",
      "NR + NO2 -> Cia3 --- G_1DH + NAD -> CCia1 --- glucoseext -> glucose --- NR + NO2 -> Cia3 --- G_1DH + NAD -> CCia1 --- glucoseext -> glucose\n",
      "CCia1 + glucose -> CCib1 --- CCia1 + glucose -> CCib1\n",
      "CCib1 -> CCfa1 + NADH --- CCib1 -> CCfa1 + NADH\n",
      "Cia3 + NADH -> Cfa3 --- Cia3 + NADH -> Cfa3\n",
      "Cfa3 -> Cio3 + NO --- Cfa3 -> Cio3 + NO\n",
      "O2 + NO -> Cf6\n",
      "Cf6 -> O2 + NO2b\n",
      "NO + NO2b -> Cf5\n",
      "Cf5 -> N2O3\n",
      "DAF + N2O3 -> Cf4\n",
      "Cf4 -> DAFF\n",
      " \n",
      "********************************************\n",
      "['NR + NO2 -> Cia3', 'G_1DH + NAD -> CCia1', 'glucoseext -> glucose', 'NR + NO2 -> Cia3', 'G_1DH + NAD -> CCia1', 'glucoseext -> glucose']\n",
      "['CCia1 + glucose -> CCib1', 'CCia1 + glucose -> CCib1']\n",
      "['CCib1 -> CCfa1 + NADH', 'CCib1 -> CCfa1 + NADH']\n",
      "['Cia3 + NADH -> Cfa3', 'Cia3 + NADH -> Cfa3']\n",
      "['Cfa3 -> Cio3 + NO', 'Cfa3 -> Cio3 + NO']\n",
      "['O2 + NO -> Cf6']\n",
      "['Cf6 -> O2 + NO2b']\n",
      "['NO + NO2b -> Cf5']\n",
      "['Cf5 -> N2O3']\n",
      "['DAF + N2O3 -> Cf4']\n",
      "['Cf4 -> DAFF']\n",
      "\n",
      "\n"
     ]
    }
   ],
   "source": [
    "##NO et glucose donnent gluconolacrone avec NO3 en réactif annexe\n",
    "ENZ = ['ABTS', 'ADH', 'resazurin', 'HRP', 'AO', 'HRP2', 'POD', 'NR', 'G_1DH', 'O2', 'DAF', 'NAD']\n",
    "recherche_chemin.résolution_équation(ENZ,\"NO2 + glucoseext => DAFF\",nb_réactions_max,reaction,liste_molecules,REACTIONS,REACPARMOL)"
   ]
  },
  {
   "cell_type": "code",
   "execution_count": 9,
   "id": "56d3688b-8026-4110-a02e-7ad1572e5ac4",
   "metadata": {},
   "outputs": [
    {
     "ename": "TypeError",
     "evalue": "list indices must be integers or slices, not NoneType",
     "output_type": "error",
     "traceback": [
      "\u001b[0;31m---------------------------------------------------------------------------\u001b[0m",
      "\u001b[0;31mTypeError\u001b[0m                                 Traceback (most recent call last)",
      "Cell \u001b[0;32mIn [9], line 7\u001b[0m\n\u001b[1;32m      4\u001b[0m \u001b[38;5;66;03m#recherche_chemin.ENZ = ['ABTS', 'ADH', 'NAD', 'resazurin', 'HRP', 'AO', 'HRP2', 'POD', 'NR', 'G_1DH', 'O2', 'DAF', 'LO']\u001b[39;00m\n\u001b[1;32m      5\u001b[0m RE \u001b[38;5;241m=\u001b[39m numero([\u001b[38;5;124m'\u001b[39m\u001b[38;5;124mLactateext\u001b[39m\u001b[38;5;124m'\u001b[39m, \u001b[38;5;124m'\u001b[39m\u001b[38;5;124mEtOHext\u001b[39m\u001b[38;5;124m'\u001b[39m])\n\u001b[0;32m----> 7\u001b[0m \u001b[43mrecherche_chemin\u001b[49m\u001b[38;5;241;43m.\u001b[39;49m\u001b[43mrésolution_équation\u001b[49m\u001b[43m(\u001b[49m\u001b[43mENZ\u001b[49m\u001b[43m,\u001b[49m\u001b[38;5;124;43m\"\u001b[39;49m\u001b[38;5;124;43mLactateext + EtOHext => ABTSOX\u001b[39;49m\u001b[38;5;124;43m\"\u001b[39;49m\u001b[43m,\u001b[49m\u001b[43mnb_réactions_max\u001b[49m\u001b[43m,\u001b[49m\u001b[43mreaction\u001b[49m\u001b[43m,\u001b[49m\u001b[43mliste_molecules\u001b[49m\u001b[43m,\u001b[49m\u001b[43mREACTIONS\u001b[49m\u001b[43m,\u001b[49m\u001b[43mREACPARMOL\u001b[49m\u001b[43m)\u001b[49m\n\u001b[1;32m      9\u001b[0m MECAS \u001b[38;5;241m=\u001b[39m recherche_chemin\u001b[38;5;241m.\u001b[39mpluscourtchemin(ENZ, RE, numero(\u001b[38;5;124m'\u001b[39m\u001b[38;5;124mABTSOX\u001b[39m\u001b[38;5;124m'\u001b[39m), nb_réactions_max, \u001b[38;5;28;01mTrue\u001b[39;00m,reaction,liste_molecules,REACTIONS,REACPARMOL)  \u001b[38;5;66;03m# Pourquoi tag a ? OU logique ?\u001b[39;00m\n\u001b[1;32m     10\u001b[0m mt \u001b[38;5;241m=\u001b[39m recherche_chemin\u001b[38;5;241m.\u001b[39mmecatexte(MECAS[\u001b[38;5;241m0\u001b[39m][\u001b[38;5;241m0\u001b[39m],reaction)\n",
      "File \u001b[0;32m~/persistent/PSC/recherche_chemin.py:409\u001b[0m, in \u001b[0;36mrésolution_équation\u001b[0;34m(ENZ, équation_logique, nb_réactions_max, liste_reaction_texte, MOL, REACTIONS, REACPARMOL)\u001b[0m\n\u001b[1;32m    405\u001b[0m produit \u001b[38;5;241m=\u001b[39m numero(liste_mots[\u001b[38;5;241m4\u001b[39m],MOL)\n\u001b[1;32m    407\u001b[0m \u001b[38;5;28;01mif\u001b[39;00m liste_mots[\u001b[38;5;241m1\u001b[39m] \u001b[38;5;241m==\u001b[39m \u001b[38;5;124m'\u001b[39m\u001b[38;5;124m+\u001b[39m\u001b[38;5;124m'\u001b[39m:\n\u001b[1;32m    408\u001b[0m     \u001b[38;5;66;03m#print(f\"MECAS=pluscourtchemin({numero2(ENZ)},[{réactif_1}, {réactif_2}],{produit},{nb_réactions_max}, True)\")\u001b[39;00m\n\u001b[0;32m--> 409\u001b[0m     MECAS \u001b[38;5;241m=\u001b[39m \u001b[43mpluscourtchemin\u001b[49m\u001b[43m(\u001b[49m\u001b[43mnumero2\u001b[49m\u001b[43m(\u001b[49m\u001b[43mENZ\u001b[49m\u001b[43m,\u001b[49m\u001b[43mMOL\u001b[49m\u001b[43m)\u001b[49m\u001b[43m,\u001b[49m\u001b[43m \u001b[49m\u001b[43m[\u001b[49m\u001b[43mréactif_1\u001b[49m\u001b[43m,\u001b[49m\u001b[43m \u001b[49m\u001b[43mréactif_2\u001b[49m\u001b[43m]\u001b[49m\u001b[43m,\u001b[49m\u001b[43m \u001b[49m\u001b[43mproduit\u001b[49m\u001b[43m,\u001b[49m\u001b[43m \u001b[49m\u001b[43mnb_réactions_max\u001b[49m\u001b[43m,\u001b[49m\u001b[43m \u001b[49m\u001b[38;5;28;43;01mFalse\u001b[39;49;00m\u001b[43m,\u001b[49m\u001b[43mliste_reaction_texte\u001b[49m\u001b[43m,\u001b[49m\u001b[43mMOL\u001b[49m\u001b[43m,\u001b[49m\u001b[43mREACTIONS\u001b[49m\u001b[43m,\u001b[49m\u001b[43mREACPARMOL\u001b[49m\u001b[43m)\u001b[49m\n\u001b[1;32m    410\u001b[0m     mt \u001b[38;5;241m=\u001b[39m mecatexte(MECAS[\u001b[38;5;241m0\u001b[39m][\u001b[38;5;241m0\u001b[39m],liste_reaction_texte)\n\u001b[1;32m    411\u001b[0m     \u001b[38;5;28;01mfor\u001b[39;00m d \u001b[38;5;129;01min\u001b[39;00m mt:\n",
      "File \u001b[0;32m~/persistent/PSC/recherche_chemin.py:36\u001b[0m, in \u001b[0;36mpluscourtchemin\u001b[0;34m(ENZ, REAC, prod, n, imprime, liste_reaction_texte, MOL, REACTIONS, REACPARMOL)\u001b[0m\n\u001b[1;32m     33\u001b[0m     nbmol \u001b[38;5;241m+\u001b[39m\u001b[38;5;241m=\u001b[39m \u001b[38;5;241m1\u001b[39m\n\u001b[1;32m     35\u001b[0m \u001b[38;5;28;01mfor\u001b[39;00m a \u001b[38;5;129;01min\u001b[39;00m ENZ:  \u001b[38;5;66;03m##initialisation de la liste de présence pour ajouter les enzymes\u001b[39;00m\n\u001b[0;32m---> 36\u001b[0m     \u001b[43mPRESENCE\u001b[49m\u001b[43m[\u001b[49m\u001b[43ma\u001b[49m\u001b[43m]\u001b[49m \u001b[38;5;241m=\u001b[39m [\u001b[38;5;28;01mTrue\u001b[39;00m, [(\u001b[38;5;241m-\u001b[39m\u001b[38;5;241m1\u001b[39m, \u001b[38;5;241m0\u001b[39m, \u001b[38;5;124m'\u001b[39m\u001b[38;5;124me\u001b[39m\u001b[38;5;124m'\u001b[39m)], [\u001b[38;5;124m'\u001b[39m\u001b[38;5;124me\u001b[39m\u001b[38;5;124m'\u001b[39m], [(\u001b[38;5;241m-\u001b[39m\u001b[38;5;241m1\u001b[39m, \u001b[38;5;124m'\u001b[39m\u001b[38;5;124me\u001b[39m\u001b[38;5;124m'\u001b[39m)]]\n\u001b[1;32m     37\u001b[0m     nbmol \u001b[38;5;241m+\u001b[39m\u001b[38;5;241m=\u001b[39m \u001b[38;5;241m1\u001b[39m\n\u001b[1;32m     39\u001b[0m     \u001b[38;5;124;03m\"\"\" Boucle de recherche descendante \"\"\"\u001b[39;00m\n",
      "\u001b[0;31mTypeError\u001b[0m: list indices must be integers or slices, not NoneType"
     ]
    }
   ],
   "source": [
    "## Ancien OU logique à changer sur le fonctionnement pluscourtchemin\n",
    "\n",
    "ENZ=numero(['ABTS', 'ADH', 'NAD', 'resazurin', 'HRP', 'AO', 'HRP2', 'POD', 'NR', 'G_1DH', 'O2', 'DAF', 'LO'])\n",
    "#recherche_chemin.ENZ = ['ABTS', 'ADH', 'NAD', 'resazurin', 'HRP', 'AO', 'HRP2', 'POD', 'NR', 'G_1DH', 'O2', 'DAF', 'LO']\n",
    "RE = numero(['Lactateext', 'EtOHext'])\n",
    "\n",
    "recherche_chemin.résolution_équation(ENZ,\"Lactateext + EtOHext => ABTSOX\",nb_réactions_max,reaction,liste_molecules,REACTIONS,REACPARMOL)\n",
    "\n",
    "MECAS = recherche_chemin.pluscourtchemin(ENZ, RE, numero('ABTSOX'), nb_réactions_max, True,reaction,liste_molecules,REACTIONS,REACPARMOL)  # Pourquoi tag a ? OU logique ?\n",
    "mt = recherche_chemin.mecatexte(MECAS[0][0],reaction)\n",
    "for d in mt:\n",
    "    print(d)"
   ]
  },
  {
   "cell_type": "markdown",
   "id": "0a8cc425-d32d-40ca-8d6a-b53d68b75965",
   "metadata": {},
   "source": [
    "### Test du non"
   ]
  },
  {
   "cell_type": "code",
   "execution_count": null,
   "id": "4b4083d1-620e-4cfd-8bb8-ee4afa9f62ce",
   "metadata": {},
   "outputs": [],
   "source": [
    "##glucose et Non(acetone) donnent gluconolacrone\n",
    "ENZ = ['AO', 'ADH', 'G_1DH', 'NAD', 'resazurin', 'HRP', 'H2O2']  ##rajouter NAD pour fausser le résultat\n",
    "recherche_chemin.résolution_équation(ENZ,\"!acetoneext + glucoseext => NADH\",nb_réactions_max,reaction,liste_molecules,REACTIONS,REACPARMOL)"
   ]
  },
  {
   "cell_type": "code",
   "execution_count": null,
   "id": "153322a9-e8d1-414c-8faf-69ab36c69725",
   "metadata": {},
   "outputs": [],
   "source": [
    "##glucose et acetone donnent gluconolacrone\n",
    "ENZ = ['AO', 'ADH', 'G_1DH', 'NAD', 'resazurin', 'HRP', 'H2O2']  ##rajouter NAD pour fausser le résultat\n",
    "recherche_chemin.résolution_équation(ENZ,\"acetoneext + glucoseext => resorufin\",nb_réactions_max,reaction,liste_molecules,REACTIONS,REACPARMOL)"
   ]
  }
 ],
 "metadata": {
  "kernelspec": {
   "display_name": "Python 3 (ipykernel)",
   "language": "python",
   "name": "python3"
  },
  "language_info": {
   "codemirror_mode": {
    "name": "ipython",
    "version": 3
   },
   "file_extension": ".py",
   "mimetype": "text/x-python",
   "name": "python",
   "nbconvert_exporter": "python",
   "pygments_lexer": "ipython3",
   "version": "3.10.6"
  }
 },
 "nbformat": 4,
 "nbformat_minor": 5
}
